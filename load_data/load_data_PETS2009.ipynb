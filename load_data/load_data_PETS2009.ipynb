{
 "cells": [
  {
   "cell_type": "code",
   "execution_count": null,
   "metadata": {
    "collapsed": true,
    "pycharm": {
     "is_executing": false
    }
   },
   "outputs": [],
   "source": [
    "import numpy as np\n",
    "import cv2 as cv2\n",
    "import os\n",
    "import  xml.dom.minidom"
   ]
  },
  {
   "cell_type": "code",
   "execution_count": null,
   "outputs": [],
   "source": [
    "def get_image_sequence(dir):\n",
    "    images = os.listdir(dir)\n",
    "    return_list = []\n",
    "    for img in images:\n",
    "        img = os.path.join(dir, img)\n",
    "        t = cv2.imread(img)\n",
    "        return_list.append(t)\n",
    "    return np.array(return_list)\n",
    "\n",
    "def get_boxes_sequence(dir):\n",
    "    dom = xml.dom.minidom.parse(dir)\n",
    "    root = dom.documentElement\n",
    "    frames = root.getElementsByTagName('frame')\n",
    "    labels = []\n",
    "    for frame in frames:\n",
    "        frame_no = frame.getAttribute(\"number\")\n",
    "        objects = frame.getElementsByTagName('object')\n",
    "        labels_curr = []\n",
    "        for obj in objects:\n",
    "            id = obj.getAttribute(\"id\")\n",
    "            # One object only have one box\n",
    "            box = obj.getElementsByTagName(\"box\")[0]\n",
    "            xc = float(box.getAttribute(\"xc\"))\n",
    "            yc = float(box.getAttribute(\"yc\"))\n",
    "            w = float(box.getAttribute(\"w\"))\n",
    "            h = float(box.getAttribute(\"h\"))\n",
    "            x1 = xc - w / 2\n",
    "            y1 = yc - h / 2\n",
    "            x2 = xc + w / 2\n",
    "            y2 = yc + h / 2\n",
    "            # labels_curr.append(np.array([x, y, w, h, id]))\n",
    "            labels_curr.append(np.array([x1, y1, x2, y2]))\n",
    "        labels.append(np.array(labels_curr))\n",
    "    return labels\n",
    "    \n",
    "def get_citypersons(dir='./data_PETS2009', type='train'):\n",
    "    sub_folders = os.listdir(dir)\n",
    "    train_img = []\n",
    "    test_img = []\n",
    "    train_label = []\n",
    "    test_label = []\n",
    "    for folder in sub_folders:\n",
    "        sequence_path = os.path.join(dir, folder, 'View_001')\n",
    "        xml_path = os.path.join(dir, folder, 'label.xml')\n",
    "        images_sequence = get_image_sequence(sequence_path)\n",
    "        labels_sequence = get_boxes_sequence(xml_path)\n",
    "        if images_sequence.shape[0] != len(labels_sequence):\n",
    "            print(sequence_path)\n",
    "            print('# img = ' + str(images_sequence.shape[0]))\n",
    "            print('# labels = ' + str(len(labels_sequence)))\n",
    "            raise  Exception('# img != # labels')\n",
    "        print('Load sequence: ' + str(images_sequence.shape))\n",
    "        if folder == 'S2L1':\n",
    "            # Use first 100 images for testing\n",
    "            test_img.append(images_sequence[:100])\n",
    "            test_label += labels_sequence[:100]\n",
    "            train_img.append(images_sequence[100:])\n",
    "            train_label += labels_sequence[100:]\n",
    "        else:\n",
    "            train_img.append(images_sequence)\n",
    "            train_label += labels_sequence\n",
    "    train_img = np.concatenate(train_img, axis=0)\n",
    "    test_img = np.concatenate(test_img, axis=0)\n",
    "    train_mean = np.mean(train_img, axis=(0, 1, 2))\n",
    "    test_mean = np.mean(test_img, axis=(0, 1, 2))\n",
    "    return train_img, train_label, train_mean, test_img, test_label, test_mean"
   ],
   "metadata": {
    "collapsed": false,
    "pycharm": {
     "name": "#%%\n",
     "is_executing": false
    }
   }
  },
  {
   "cell_type": "code",
   "execution_count": null,
   "outputs": [],
   "source": [
    "train_img, train_label, train_mean, test_img, test_label, test_mean = get_citypersons('../data_PETS2009/')"
   ],
   "metadata": {
    "collapsed": false,
    "pycharm": {
     "name": "#%%\n",
     "is_executing": false
    }
   }
  },
  {
   "cell_type": "code",
   "execution_count": null,
   "outputs": [],
   "source": [
    "import matplotlib.pyplot as plt\n",
    "img = train_img[5]\n",
    "boxes = train_label[5]\n",
    "plt.imshow(img)"
   ],
   "metadata": {
    "collapsed": false,
    "pycharm": {
     "name": "#%%\n",
     "is_executing": false
    }
   }
  },
  {
   "cell_type": "code",
   "execution_count": null,
   "outputs": [],
   "source": [
    "for box in boxes:\n",
    "    cv2.rectangle(img, (int(box[0]), int(box[1])), (int(box[2]), int(box[3])), [0, 0, 255], 2)\n",
    "plt.imshow(img)"
   ],
   "metadata": {
    "collapsed": false,
    "pycharm": {
     "name": "#%%\n",
     "is_executing": false
    }
   }
  },
  {
   "cell_type": "code",
   "execution_count": null,
   "outputs": [],
   "source": [
    "print(np.mean(train_img, axis=(0, 1, 2)))"
   ],
   "metadata": {
    "collapsed": false,
    "pycharm": {
     "name": "#%%\n",
     "is_executing": false
    }
   }
  }
 ],
 "metadata": {
  "kernelspec": {
   "display_name": "Python 3",
   "language": "python",
   "name": "python3"
  },
  "language_info": {
   "codemirror_mode": {
    "name": "ipython",
    "version": 2
   },
   "file_extension": ".py",
   "mimetype": "text/x-python",
   "name": "python",
   "nbconvert_exporter": "python",
   "pygments_lexer": "ipython2",
   "version": "2.7.6"
  },
  "pycharm": {
   "stem_cell": {
    "cell_type": "raw",
    "source": [],
    "metadata": {
     "collapsed": false
    }
   }
  }
 },
 "nbformat": 4,
 "nbformat_minor": 0
}
