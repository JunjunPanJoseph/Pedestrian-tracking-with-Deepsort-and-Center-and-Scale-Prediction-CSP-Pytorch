{
 "cells": [
  {
   "cell_type": "code",
   "execution_count": 1,
   "metadata": {
    "collapsed": true,
    "pycharm": {
     "name": "#%%\n",
     "is_executing": false
    }
   },
   "outputs": [],
   "source": [
    "import cv2\n",
    "import numpy as np\n",
    "import os\n",
    "import  matplotlib.pyplot as plt\n",
    "\n",
    "from config import Config\n",
    "from test_csp import test, test_all_datasets\n",
    "from deepsort import DeepsortTracker\n",
    "from util import draw_bboxes\n",
    "\n",
    "from tasks.task2 import tracking_box\n",
    "from tasks.task3 import hc, get_group_boxes"
   ]
  },
  {
   "cell_type": "code",
   "execution_count": 2,
   "outputs": [
    {
     "name": "stdout",
     "text": [
      "Use cuda: True\n",
      "Loading pretrained model from ./checkpoints/CSP_epoch_10.pth\n"
     ],
     "output_type": "stream"
    }
   ],
   "source": [
    "all_dataset = False\n",
    "config = Config()\n",
    "checkpoints = ['100.pth', '200.pth', '300.pth', '400.pth', '500.pth', '600.pth', '700.pth', '794.pth']\n",
    "output_dir = './testset_output'\n",
    "\n",
    "\n",
    "if all_dataset:\n",
    "    img_seq, boxes = test_all_datasets(checkpoints)\n",
    "    allseqresult_file = './detection_result'\n",
    "    try:\n",
    "        with np.load(allseqresult_file, allow_pickle=True) as dataset:\n",
    "            img_seq = dataset['img_seq']\n",
    "            boxes = dataset['boxes']\n",
    "    except:\n",
    "        # load from dir\n",
    "        img_seq, boxes = test_all_datasets(checkpoints)\n",
    "        np.savez(allseqresult_file, img_seq=img_seq, boxes=boxes)\n",
    "else: \n",
    "    img_seq, boxes = test()"
   ],
   "metadata": {
    "collapsed": false,
    "pycharm": {
     "name": "#%%\n",
     "is_executing": false
    }
   }
  },
  {
   "cell_type": "code",
   "execution_count": 3,
   "outputs": [],
   "source": [
    "task1_save_to_file = True\n",
    "task2_save_to_file = True\n",
    "task3_save_to_file = True"
   ],
   "metadata": {
    "collapsed": false,
    "pycharm": {
     "name": "#%%\n",
     "is_executing": false
    }
   }
  },
  {
   "cell_type": "code",
   "execution_count": 4,
   "outputs": [
    {
     "name": "stdout",
     "text": [
      "Loading weights from ./checkpoints/Deepsort_ckpt.t7... Done!\n"
     ],
     "output_type": "stream"
    },
    {
     "name": "stderr",
     "text": [
      "c:\\users\\user\\appdata\\local\\programs\\python\\python37\\lib\\site-packages\\ipykernel_launcher.py:16: DeprecationWarning: elementwise comparison failed; this will raise an error in the future.\n",
      "  app.launch_new_instance()\n"
     ],
     "output_type": "stream"
    }
   ],
   "source": [
    "# Task 1\n",
    "\n",
    "tracker = DeepsortTracker(config)\n",
    "# tracking\n",
    "seq_boxes = []\n",
    "seq_instances = []\n",
    "seq_states = []\n",
    "\n",
    "track_seq = {}\n",
    "for i in range(len(img_seq)):\n",
    "    \n",
    "    img = img_seq[i].copy() \n",
    "    # The boxes have its confidence\n",
    "    curr_boxes = boxes[i]\n",
    "    curr_boxes_x1y1x2y2, curr_instances, curr_boxes_state = tracker.detect(img, curr_boxes)\n",
    "    if task1_save_to_file and curr_boxes_x1y1x2y2 != []:\n",
    "        img = draw_bboxes(img, curr_boxes_x1y1x2y2, curr_instances)\n",
    "    for j in range(len(curr_boxes)):\n",
    "        box = curr_boxes_x1y1x2y2[j]\n",
    "        instance = curr_instances[j]\n",
    "        if instance not in track_seq:\n",
    "            track_seq[instance] = []\n",
    "        p = ((box[0] + box[2]) // 2, box[3])\n",
    "        track_seq[instance].append(p)\n",
    "        k = 1\n",
    "        track_frames = track_seq[instance][max(0, len(track_seq[instance]) - 20):]\n",
    "        p_beg = track_frames[0]\n",
    "        while k < len(track_frames):\n",
    "            p_end = track_frames[k]\n",
    "            cv2.line(img, p_beg, p_end, (0, 0, 0))\n",
    "            p_beg  = p_end\n",
    "            k = k + 1\n",
    "    cv2.imwrite(os.path.join(output_dir, 'task1', str(i).zfill(5) + '.jpg'), img)\n",
    "    seq_boxes.append(curr_boxes_x1y1x2y2)\n",
    "    seq_instances.append(curr_instances)\n",
    "    seq_states.append(curr_boxes_state)"
   ],
   "metadata": {
    "collapsed": false,
    "pycharm": {
     "name": "#%%\n",
     "is_executing": false
    }
   }
  },
  {
   "cell_type": "code",
   "execution_count": null,
   "outputs": [],
   "source": [
    "# Task 2\n",
    "def task2(count_box):\n",
    "    task2_output_seq = tracking_box(img_seq, seq_boxes, seq_instances, seq_states, count_box)\n",
    "    if task2_save_to_file:\n",
    "        for i in range(len(task2_output_seq)):\n",
    "            img = task2_output_seq[i]\n",
    "            cv2.imwrite(os.path.join(output_dir, 'task2', str(i).zfill(5) + '.jpg'), img)\n",
    "        "
   ],
   "metadata": {
    "collapsed": false,
    "pycharm": {
     "name": "#%%\n",
     "is_executing": true
    }
   }
  },
  {
   "cell_type": "code",
   "execution_count": null,
   "outputs": [],
   "source": [
    "x1 = 500\n",
    "y1 = 200\n",
    "x2 = 700\n",
    "y2 = 400\n",
    "count_box = [x1, y1, x2, y2]\n",
    "\n",
    "task2(count_box)"
   ],
   "metadata": {
    "collapsed": false,
    "pycharm": {
     "name": "#%%\n",
     "is_executing": true
    }
   }
  },
  {
   "cell_type": "code",
   "execution_count": null,
   "outputs": [],
   "source": [
    "# Task3 Group detection\n",
    "\n",
    "def task3():\n",
    "    for i in range(len(seq_boxes)):\n",
    "        img = img_seq[i].copy()\n",
    "        boxes = seq_boxes[i]\n",
    "        states = seq_states[i]\n",
    "        instances = seq_instances[i]\n",
    "        img = draw_bboxes(img, boxes, instances)\n",
    "        clusters = hc(boxes, states, instances, 10.0, 1)\n",
    "        clusters_boxes = [[] for i in range(len(boxes))]\n",
    "        for j in range(len(boxes)):\n",
    "            clusters_boxes[clusters[j]].append(boxes[j])\n",
    "        group_boxes = []\n",
    "        for j in range(len(boxes)):\n",
    "            if len(clusters_boxes[j]) > 1:\n",
    "                group_box = get_group_boxes(clusters_boxes[j])\n",
    "                group_boxes.append(group_box)\n",
    "        img = draw_bboxes(img, group_boxes)\n",
    "        # draw group boxes \n",
    "        \n",
    "        \n",
    "        if task3_save_to_file:\n",
    "            cv2.imwrite(os.path.join(output_dir, 'task3', str(i).zfill(5) + '.jpg'), img)"
   ],
   "metadata": {
    "collapsed": false,
    "pycharm": {
     "name": "#%%\n",
     "is_executing": true
    }
   }
  },
  {
   "cell_type": "code",
   "execution_count": null,
   "outputs": [],
   "source": [
    "task3()"
   ],
   "metadata": {
    "collapsed": false,
    "pycharm": {
     "name": "#%%\n",
     "is_executing": true
    }
   }
  }
 ],
 "metadata": {
  "kernelspec": {
   "display_name": "Python 3",
   "language": "python",
   "name": "python3"
  },
  "language_info": {
   "codemirror_mode": {
    "name": "ipython",
    "version": 2
   },
   "file_extension": ".py",
   "mimetype": "text/x-python",
   "name": "python",
   "nbconvert_exporter": "python",
   "pygments_lexer": "ipython2",
   "version": "2.7.6"
  },
  "pycharm": {
   "stem_cell": {
    "cell_type": "raw",
    "source": [],
    "metadata": {
     "collapsed": false
    }
   }
  }
 },
 "nbformat": 4,
 "nbformat_minor": 0
}
