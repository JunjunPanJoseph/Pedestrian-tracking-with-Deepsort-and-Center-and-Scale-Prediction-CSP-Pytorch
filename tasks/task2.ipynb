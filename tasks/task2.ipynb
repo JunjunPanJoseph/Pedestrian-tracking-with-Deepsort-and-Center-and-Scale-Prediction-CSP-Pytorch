{
 "cells": [
  {
   "cell_type": "code",
   "execution_count": 1,
   "metadata": {
    "collapsed": true,
    "pycharm": {
     "is_executing": false
    }
   },
   "outputs": [],
   "source": [
    "import sklearn\n",
    "import cv2 as cv2\n",
    "import os\n",
    "import numpy as np\n",
    "import matplotlib.pyplot as plt\n",
    "from util import draw_bboxes\n"
   ]
  },
  {
   "cell_type": "code",
   "execution_count": 2,
   "outputs": [],
   "source": [
    "def bgr_to_rgb(image):\n",
    "    b,g,r = cv2.split(image)\n",
    "    return cv2.merge([r,g,b])\n",
    "def draw_rect(img, box):\n",
    "    x, y, w, h = box\n",
    "    cv2.rectangle(img, (x, y), (x + w, y + h), (0, 255, 255), 2)\n",
    "def get_coord(box):\n",
    "    x1, y1, w, h = box\n",
    "    return x1, y1, x1 + w, y1 + h\n",
    "def get_area(box):\n",
    "    return box[2] * box[3]\n",
    "def get_center(box):\n",
    "    return box[0] + box[2] / 2, box[1] + box[3] / 2\n",
    "def get_center_velocity(track_info):\n",
    "    return track_info[4], track_info[5]\n",
    "def add_velocity(center, velocity):\n",
    "    return center[0] + velocity[0], center[1] + velocity[1]\n",
    "def l2_dist_square(p1, p2):\n",
    "    return (p1[0] - p2[0]) ** 2 + (p1[1] - p2[1]) ** 2 \n",
    "def check_overlap(box, proposal):\n",
    "    print(box)\n",
    "    print(proposal)\n",
    "    b_x1, b_y1, b_x2, b_y2 = get_coord(box)\n",
    "    p_x1, p_y1, p_x2, p_y2 = get_coord(proposal)\n",
    "    print((b_x1, b_y1, b_x2, b_y2))\n",
    "    print((p_x1, p_y1, p_x2, p_y2))\n",
    "    i_x1 = max(b_x1, p_x1)\n",
    "    i_x2 = min(b_x2, p_x2)\n",
    "    i_y1 = max(b_y1, p_y1)\n",
    "    i_y2 = min(b_y2, p_y2)\n",
    "    \n",
    "    print(i_x1)\n",
    "    print(i_x2)\n",
    "    print(i_y1)\n",
    "    print(i_y2)\n",
    "    if i_x1 >= i_x2 or i_y1 >= i_y2:\n",
    "        # Do not interset\n",
    "        return 0\n",
    "    elif p_x1 >= b_x1 and p_x2 <= b_x2 and p_y1 >= b_y1 and p_y2 <= b_y2:\n",
    "        # Contained inside the box\n",
    "        return 1\n",
    "    else:\n",
    "        # Enter / exit\n",
    "        return 2\n",
    "def check_entering(box, proposal, track_info):\n",
    "    box_center = get_center(box)\n",
    "    proposal_center = get_center(proposal)\n",
    "    proposal_velocity = get_center_velocity(track_info)\n",
    "    # track info [u, v, r, h, v_x, v_y, v_r, v_h]  \n",
    "    old_dist = l2_dist_square(box_center, proposal_center)\n",
    "    new_dist = l2_dist_square(box_center, add_velocity(proposal_center, proposal_velocity))\n",
    "    if new_dist < old_dist:\n",
    "        return True\n",
    "    else:\n",
    "        return False\n",
    "    \n",
    "def tracking_box(img_seq, proposals_seq, instances_seq, tracking_seq, box):\n",
    "    # box: [x, y, w, h]\n",
    "    output_seq = []\n",
    "    for i in range(len(img_seq)):\n",
    "        img = img_seq[i].copy()\n",
    "        proposals_list = proposals_seq[i]\n",
    "        instances_list = instances_seq[i]\n",
    "        tracking_list = tracking_seq[i]\n",
    "        \n",
    "        n_pedestrians_inside = 0\n",
    "        n_pedestrians_enter = 0\n",
    "        n_pedestrians_leave = 0\n",
    "        \n",
    "        draw_rect(img, box)\n",
    "        img = draw_bboxes(img, proposals_list, instances_list)\n",
    "        for j in range(len(proposals_list)):\n",
    "            proposal = proposals_list[j]\n",
    "            instance = instances_list[j]\n",
    "            track_info = tracking_list[j]\n",
    "            \n",
    "            mode = check_overlap(box, proposal)\n",
    "            print(\"mode = \" + str(mode))\n",
    "            if mode == 0:\n",
    "                # Do not interset\n",
    "                pass\n",
    "            elif mode == 1:\n",
    "                # Contained inside the box\n",
    "                n_pedestrians_inside += 1\n",
    "            else:\n",
    "                # mode == 2:\n",
    "                # velocity checking\n",
    "                if check_entering(box, proposal, track_info):\n",
    "                    n_pedestrians_enter += 1\n",
    "                else:\n",
    "                    n_pedestrians_leave += 1\n",
    "        \n",
    "        text = \"Inside: \" + str(n_pedestrians_inside) + \"  Entering: \" + str(n_pedestrians_enter) + \"  Leaving: \" + str(n_pedestrians_leave)\n",
    "        cv2.putText(img, text, (box[0], box[1]), cv2.FONT_HERSHEY_COMPLEX, 1, (0, 0, 255), 2)\n",
    "        output_seq.append(img)\n",
    "        \n",
    "    return output_seq"
   ],
   "metadata": {
    "collapsed": false,
    "pycharm": {
     "name": "#%%\n",
     "is_executing": false
    }
   }
  },
  {
   "cell_type": "code",
   "execution_count": 3,
   "outputs": [],
   "source": [
    "x = 100\n",
    "y = 100\n",
    "w = 300\n",
    "h = 200\n",
    "\n",
    "\n",
    "box = [x, y, w, h]\n"
   ],
   "metadata": {
    "collapsed": false,
    "pycharm": {
     "name": "#%%\n",
     "is_executing": false
    }
   }
  },
  {
   "cell_type": "code",
   "execution_count": 4,
   "outputs": [],
   "source": [
    "img1 = cv2.imread('./sequence/000001.jpg')\n",
    "img2 = cv2.imread('./sequence/000002.jpg')\n",
    "img3 = cv2.imread('./sequence/000003.jpg')\n",
    "img_seq = [img1, img2, img3]\n",
    "img_seq = [img1]"
   ],
   "metadata": {
    "collapsed": false,
    "pycharm": {
     "name": "#%%\n",
     "is_executing": false
    }
   }
  },
  {
   "cell_type": "code",
   "execution_count": 6,
   "outputs": [
    {
     "traceback": [
      "\u001b[1;31m---------------------------------------------------------------------------\u001b[0m",
      "\u001b[1;31mAttributeError\u001b[0m                            Traceback (most recent call last)",
      "\u001b[1;32m<ipython-input-6-602537c5f868>\u001b[0m in \u001b[0;36m<module>\u001b[1;34m\u001b[0m\n\u001b[0;32m      3\u001b[0m \u001b[0mtracking_seq\u001b[0m \u001b[1;33m=\u001b[0m \u001b[1;33m[\u001b[0m\u001b[1;33m[\u001b[0m\u001b[1;33m[\u001b[0m\u001b[1;36m100\u001b[0m\u001b[1;33m,\u001b[0m \u001b[1;36m100\u001b[0m\u001b[1;33m,\u001b[0m \u001b[1;36m1\u001b[0m\u001b[1;33m,\u001b[0m \u001b[1;36m1\u001b[0m\u001b[1;33m,\u001b[0m \u001b[1;33m-\u001b[0m\u001b[1;36m10\u001b[0m\u001b[1;33m,\u001b[0m \u001b[1;33m-\u001b[0m\u001b[1;36m5\u001b[0m\u001b[1;33m,\u001b[0m \u001b[1;36m0\u001b[0m\u001b[1;33m,\u001b[0m \u001b[1;36m0\u001b[0m\u001b[1;33m]\u001b[0m\u001b[1;33m,\u001b[0m \u001b[1;33m[\u001b[0m\u001b[1;36m100\u001b[0m\u001b[1;33m,\u001b[0m \u001b[1;36m75\u001b[0m\u001b[1;33m,\u001b[0m \u001b[1;36m1\u001b[0m\u001b[1;33m,\u001b[0m \u001b[1;36m1\u001b[0m\u001b[1;33m,\u001b[0m \u001b[1;36m10\u001b[0m\u001b[1;33m,\u001b[0m \u001b[1;36m5\u001b[0m\u001b[1;33m,\u001b[0m \u001b[1;36m0\u001b[0m\u001b[1;33m,\u001b[0m \u001b[1;36m0\u001b[0m\u001b[1;33m]\u001b[0m\u001b[1;33m]\u001b[0m\u001b[1;33m]\u001b[0m\u001b[1;33m\u001b[0m\u001b[1;33m\u001b[0m\u001b[0m\n\u001b[0;32m      4\u001b[0m \u001b[0minstances_seq\u001b[0m \u001b[1;33m=\u001b[0m \u001b[1;33m[\u001b[0m\u001b[1;33m[\u001b[0m\u001b[1;36m1\u001b[0m\u001b[1;33m,\u001b[0m \u001b[1;36m2\u001b[0m\u001b[1;33m]\u001b[0m\u001b[1;33m]\u001b[0m\u001b[1;33m\u001b[0m\u001b[1;33m\u001b[0m\u001b[0m\n\u001b[1;32m----> 5\u001b[1;33m \u001b[0moutput_seq\u001b[0m \u001b[1;33m=\u001b[0m \u001b[0mtracking_box\u001b[0m\u001b[1;33m(\u001b[0m\u001b[0mimg_seq\u001b[0m\u001b[1;33m,\u001b[0m \u001b[0mproposals_seq\u001b[0m\u001b[1;33m,\u001b[0m \u001b[0minstances_seq\u001b[0m\u001b[1;33m,\u001b[0m \u001b[0mtracking_seq\u001b[0m\u001b[1;33m,\u001b[0m \u001b[0mbox\u001b[0m\u001b[1;33m)\u001b[0m\u001b[1;33m\u001b[0m\u001b[1;33m\u001b[0m\u001b[0m\n\u001b[0m\u001b[0;32m      6\u001b[0m \u001b[1;33m\u001b[0m\u001b[0m\n",
      "\u001b[1;32m<ipython-input-2-60e4ad747ffc>\u001b[0m in \u001b[0;36mtracking_box\u001b[1;34m(img_seq, proposals_seq, instances_seq, tracking_seq, box)\u001b[0m\n\u001b[0;32m     59\u001b[0m     \u001b[0moutput_seq\u001b[0m \u001b[1;33m=\u001b[0m \u001b[1;33m[\u001b[0m\u001b[1;33m]\u001b[0m\u001b[1;33m\u001b[0m\u001b[1;33m\u001b[0m\u001b[0m\n\u001b[0;32m     60\u001b[0m     \u001b[1;32mfor\u001b[0m \u001b[0mi\u001b[0m \u001b[1;32min\u001b[0m \u001b[0mrange\u001b[0m\u001b[1;33m(\u001b[0m\u001b[0mlen\u001b[0m\u001b[1;33m(\u001b[0m\u001b[0mimg_seq\u001b[0m\u001b[1;33m)\u001b[0m\u001b[1;33m)\u001b[0m\u001b[1;33m:\u001b[0m\u001b[1;33m\u001b[0m\u001b[1;33m\u001b[0m\u001b[0m\n\u001b[1;32m---> 61\u001b[1;33m         \u001b[0mimg\u001b[0m \u001b[1;33m=\u001b[0m \u001b[0mimg_seq\u001b[0m\u001b[1;33m[\u001b[0m\u001b[0mi\u001b[0m\u001b[1;33m]\u001b[0m\u001b[1;33m.\u001b[0m\u001b[0mcopy\u001b[0m\u001b[1;33m(\u001b[0m\u001b[1;33m)\u001b[0m\u001b[1;33m\u001b[0m\u001b[1;33m\u001b[0m\u001b[0m\n\u001b[0m\u001b[0;32m     62\u001b[0m         \u001b[0mproposals_list\u001b[0m \u001b[1;33m=\u001b[0m \u001b[0mproposals_seq\u001b[0m\u001b[1;33m[\u001b[0m\u001b[0mi\u001b[0m\u001b[1;33m]\u001b[0m\u001b[1;33m\u001b[0m\u001b[1;33m\u001b[0m\u001b[0m\n\u001b[0;32m     63\u001b[0m         \u001b[0minstances_list\u001b[0m \u001b[1;33m=\u001b[0m \u001b[0minstances_seq\u001b[0m\u001b[1;33m[\u001b[0m\u001b[0mi\u001b[0m\u001b[1;33m]\u001b[0m\u001b[1;33m\u001b[0m\u001b[1;33m\u001b[0m\u001b[0m\n",
      "\u001b[1;31mAttributeError\u001b[0m: 'NoneType' object has no attribute 'copy'"
     ],
     "ename": "AttributeError",
     "evalue": "'NoneType' object has no attribute 'copy'",
     "output_type": "error"
    }
   ],
   "source": [
    "proposals_seq = [[[50, 75, 100, 50], [300, 300, 50, 50]]]\n",
    "\n",
    "tracking_seq = [[[100, 100, 1, 1, -10, -5, 0, 0], [100, 75, 1, 1, 10, 5, 0, 0]]]\n",
    "instances_seq = [[1, 2]]\n",
    "output_seq = tracking_box(img_seq, proposals_seq, instances_seq, tracking_seq, box)"
   ],
   "metadata": {
    "collapsed": false,
    "pycharm": {
     "name": "#%%\n",
     "is_executing": false
    }
   }
  },
  {
   "cell_type": "code",
   "execution_count": null,
   "outputs": [],
   "source": [
    "plt.imshow(bgr_to_rgb(output_seq[0]))"
   ],
   "metadata": {
    "collapsed": false,
    "pycharm": {
     "name": "#%%\n",
     "is_executing": false
    }
   }
  }
 ],
 "metadata": {
  "kernelspec": {
   "display_name": "Python 3",
   "language": "python",
   "name": "python3"
  },
  "language_info": {
   "codemirror_mode": {
    "name": "ipython",
    "version": 2
   },
   "file_extension": ".py",
   "mimetype": "text/x-python",
   "name": "python",
   "nbconvert_exporter": "python",
   "pygments_lexer": "ipython2",
   "version": "2.7.6"
  },
  "pycharm": {
   "stem_cell": {
    "cell_type": "raw",
    "source": [],
    "metadata": {
     "collapsed": false
    }
   }
  }
 },
 "nbformat": 4,
 "nbformat_minor": 0
}
